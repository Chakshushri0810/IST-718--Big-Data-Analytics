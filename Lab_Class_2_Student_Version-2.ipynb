{
  "nbformat": 4,
  "nbformat_minor": 0,
  "metadata": {
    "colab": {
      "name": "Lab Class 2 Student Version.ipynb",
      "provenance": [],
      "collapsed_sections": []
    },
    "kernelspec": {
      "name": "python3",
      "display_name": "Python 3"
    },
    "language_info": {
      "name": "python"
    }
  },
  "cells": [
    {
      "cell_type": "markdown",
      "source": [
        "### Enter your name and SU ID in the cell below."
      ],
      "metadata": {
        "id": "Pa8JcARM8cak"
      }
    },
    {
      "cell_type": "markdown",
      "source": [
        "Your name and SU ID here: Chakshushri, 502218303"
      ],
      "metadata": {
        "id": "rPFjDd6C83sP"
      }
    },
    {
      "cell_type": "markdown",
      "source": [
        "### Question 1:  Using numpy, create a vector (numpy array) and calculate the L1 norm of the vector.  First, create a function named get_l1_norm and calculate the norm by rolling your own code.  get_l1_norm shall receive a numpy array as input and return a numpy floating point type.  Next, use the built in numpy norm function to verify get_l1 norm is correct. See the [numpy norm function documentation ](https://docs.scipy.org/doc/numpy-1.13.0/reference/generated/numpy.linalg.norm.html) for more information."
      ],
      "metadata": {
        "id": "sr8wZpve8-DE"
      }
    },
    {
      "cell_type": "code",
      "source": [
        "# get_l1_norm here\n",
        "from numpy import array\n",
        "from numpy.linalg import norm\n",
        "\n",
        "def get_l1_norm(arr):\n",
        "  print(arr)\n",
        "  norm_l1 = norm(arr, 1)\n",
        "  print(norm_l1)\n",
        "  return (get_l1_norm)"
      ],
      "metadata": {
        "id": "jwyIxqcL9PV_"
      },
      "execution_count": 1,
      "outputs": []
    },
    {
      "cell_type": "code",
      "source": [
        "# Test get_l1_norm here by comparing to numpy norm()\n",
        "arr = array([-1, -2, 3, 4, 5])\n",
        "get_l1_norm(arr)"
      ],
      "metadata": {
        "id": "nFkE28e195l5",
        "colab": {
          "base_uri": "https://localhost:8080/"
        },
        "outputId": "969a69f3-0adc-4bfa-ec0d-c1731e776acc"
      },
      "execution_count": 2,
      "outputs": [
        {
          "output_type": "stream",
          "name": "stdout",
          "text": [
            "[-1 -2  3  4  5]\n",
            "15.0\n"
          ]
        },
        {
          "output_type": "execute_result",
          "data": {
            "text/plain": [
              "<function __main__.get_l1_norm>"
            ]
          },
          "metadata": {},
          "execution_count": 2
        }
      ]
    },
    {
      "cell_type": "markdown",
      "source": [
        "### Question 2: Repeat question 1 buy for the L2 norm."
      ],
      "metadata": {
        "id": "BxAS7hlX9SZh"
      }
    },
    {
      "cell_type": "code",
      "source": [
        "# Create get_l2_norm here\n",
        "from numpy import array\n",
        "from numpy.linalg import norm\n",
        "\n",
        "def get_l2_norm(arr):\n",
        "  print(arr)\n",
        "  norm_l2 = norm(arr)\n",
        "  print(norm_l2)\n",
        "  return (get_l2_norm)"
      ],
      "metadata": {
        "id": "HkGCwIQe-Hih"
      },
      "execution_count": 3,
      "outputs": []
    },
    {
      "cell_type": "code",
      "source": [
        "# test get_lt_norm here by comparing to numpy norm()\n",
        "arr = array([1, 2, 3, 4, 5])\n",
        "get_l2_norm(arr)"
      ],
      "metadata": {
        "id": "UyfiN_im-K0z",
        "colab": {
          "base_uri": "https://localhost:8080/"
        },
        "outputId": "9721db9c-fa91-4b0b-a600-5a0cae4d9748"
      },
      "execution_count": 4,
      "outputs": [
        {
          "output_type": "stream",
          "name": "stdout",
          "text": [
            "[1 2 3 4 5]\n",
            "7.416198487095663\n"
          ]
        },
        {
          "output_type": "execute_result",
          "data": {
            "text/plain": [
              "<function __main__.get_l2_norm>"
            ]
          },
          "metadata": {},
          "execution_count": 4
        }
      ]
    },
    {
      "cell_type": "markdown",
      "source": [
        "### Question 3: Create a function named dot_product which takes 2 numpy arrays as arguments and returns a numpy array containing the dot product.  Do not use built in python or numpy functions to implement the dot_product function.  Test your code using numpy built in functions."
      ],
      "metadata": {
        "id": "9iynAvvQ-Oe1"
      }
    },
    {
      "cell_type": "code",
      "source": [
        "# Your dot_product code here\n",
        "import numpy as np\n",
        "\n",
        "def dot_product(x,y):\n",
        "    sum = 0\n",
        "    for i in range(0,len(x)):\n",
        "        sum = sum+(x[i]*y[i])\n",
        "    return sum\n",
        "    dot_product(x,y) \n"
      ],
      "metadata": {
        "id": "Mdh20gW1B_bt"
      },
      "execution_count": 5,
      "outputs": []
    },
    {
      "cell_type": "code",
      "source": [
        "x = np.array([5,10])\n",
        "y = np.array([4,-7])\n",
        "dot_product(x,y) \n"
      ],
      "metadata": {
        "colab": {
          "base_uri": "https://localhost:8080/"
        },
        "id": "rraE7Z-ss1V5",
        "outputId": "ac71f44c-55c8-474d-c7bb-385d9179ea48"
      },
      "execution_count": 6,
      "outputs": [
        {
          "output_type": "execute_result",
          "data": {
            "text/plain": [
              "-50"
            ]
          },
          "metadata": {},
          "execution_count": 6
        }
      ]
    },
    {
      "cell_type": "code",
      "source": [
        "# Test dot_product here\n",
        "x = np.array([5,10])\n",
        "y = np.array([4,-7])\n",
        "np.dot(x,y)"
      ],
      "metadata": {
        "id": "MSqsFkjqCDsd",
        "colab": {
          "base_uri": "https://localhost:8080/"
        },
        "outputId": "422be437-8176-4bee-bb40-cf55ff010930"
      },
      "execution_count": 7,
      "outputs": [
        {
          "output_type": "execute_result",
          "data": {
            "text/plain": [
              "-50"
            ]
          },
          "metadata": {},
          "execution_count": 7
        }
      ]
    },
    {
      "cell_type": "markdown",
      "source": [
        "### Question 4: What's strange or misleading with the following code?"
      ],
      "metadata": {
        "id": "-6HY6r4WCF-A"
      }
    },
    {
      "cell_type": "code",
      "source": [
        "import numpy as np\n",
        "x = np.array([[1,2],[3,4]])\n",
        "v = np.array([9, 10])\n",
        "v"
      ],
      "metadata": {
        "colab": {
          "base_uri": "https://localhost:8080/"
        },
        "id": "Mykvtu67DPtc",
        "outputId": "22a59b63-bd64-4ee8-aff0-c006f7801d82"
      },
      "execution_count": 8,
      "outputs": [
        {
          "output_type": "execute_result",
          "data": {
            "text/plain": [
              "array([ 9, 10])"
            ]
          },
          "metadata": {},
          "execution_count": 8
        }
      ]
    },
    {
      "cell_type": "markdown",
      "source": [
        "Your explanation here:  We are creating a matrix in x, so we do not need to pass np.array."
      ],
      "metadata": {
        "id": "2sWwFooiEbxt"
      }
    },
    {
      "cell_type": "markdown",
      "source": [
        "### Question 5: Provide an example of numpy broadcasting in the cell below."
      ],
      "metadata": {
        "id": "zgTUBbifE0Xt"
      }
    },
    {
      "cell_type": "code",
      "source": [
        "# Numpy broadcasting here\n",
        "import numpy as np \n",
        "a = np.array([3,4,5,6]) \n",
        "b = np.array([20,30,40,50]) \n",
        "c = a * b \n",
        "print (c)"
      ],
      "metadata": {
        "id": "3zK2OjoXE8iR",
        "colab": {
          "base_uri": "https://localhost:8080/"
        },
        "outputId": "8b5b1b88-7663-4b88-ef47-2280a2ccfc49"
      },
      "execution_count": 9,
      "outputs": [
        {
          "output_type": "stream",
          "name": "stdout",
          "text": [
            "[ 60 120 200 300]\n"
          ]
        }
      ]
    },
    {
      "cell_type": "markdown",
      "source": [
        "### Question 6: Create a function linear_combo which takes 2 args: A numpy array of coefficients and a 2 dimensional numpy array of vectors.  Return a numpy array containing the linear combination of vectors."
      ],
      "metadata": {
        "id": "ndKqcgFTE-Qz"
      }
    },
    {
      "cell_type": "code",
      "source": [
        "# Implement linear_combo here\n",
        "def linear_combo (coeff, vec):\n",
        "  sum = 0\n",
        "  for i in range(len(coeff)):\n",
        "    sum = sum+ (coeff[i]*vec)\n",
        "\n",
        "  return sum   \n",
        "linear_combo(np.array([1,2]),np.array([[1,2],[3,4]]))\n"
      ],
      "metadata": {
        "id": "FaWFWXCiGB0d",
        "colab": {
          "base_uri": "https://localhost:8080/"
        },
        "outputId": "e9b03dc0-3fa4-452d-d800-2d615867f78b"
      },
      "execution_count": 10,
      "outputs": [
        {
          "output_type": "execute_result",
          "data": {
            "text/plain": [
              "array([[ 3,  6],\n",
              "       [ 9, 12]])"
            ]
          },
          "metadata": {},
          "execution_count": 10
        }
      ]
    },
    {
      "cell_type": "markdown",
      "source": [
        "### Question 7: Using numpy, create a probability distribution and store it in a variable named dist.  Create any probability distribution except the normal distribution."
      ],
      "metadata": {
        "id": "P6f213ObGE8-"
      }
    },
    {
      "cell_type": "code",
      "source": [
        "# create distribution here\n",
        "# Importing required libraries\n",
        " \n",
        "import numpy as np\n",
        "s = np.random.uniform(-1,0,100)\n",
        "s\n"
      ],
      "metadata": {
        "id": "DKNmq4cvG9cB",
        "colab": {
          "base_uri": "https://localhost:8080/"
        },
        "outputId": "3cdf09de-b57e-44d1-f467-27264fb8fda1"
      },
      "execution_count": 11,
      "outputs": [
        {
          "output_type": "execute_result",
          "data": {
            "text/plain": [
              "array([-0.61220649, -0.19966751, -0.13911768, -0.87617892, -0.79575307,\n",
              "       -0.53056684, -0.20378885, -0.7685188 , -0.94338976, -0.7175332 ,\n",
              "       -0.76653388, -0.1620678 , -0.8933256 , -0.37884499, -0.82294096,\n",
              "       -0.03510615, -0.41246803, -0.76867975, -0.11245721, -0.25832923,\n",
              "       -0.09936753, -0.70381469, -0.78413247, -0.6918728 , -0.18027798,\n",
              "       -0.0838052 , -0.36105209, -0.04018204, -0.14215327, -0.91672466,\n",
              "       -0.67207176, -0.76411106, -0.2736437 , -0.81767423, -0.11244523,\n",
              "       -0.4031386 , -0.17311275, -0.12792189, -0.8742919 , -0.85773306,\n",
              "       -0.92410057, -0.24667422, -0.72077704, -0.2538045 , -0.11924576,\n",
              "       -0.54572622, -0.99527954, -0.0519714 , -0.39873279, -0.06596443,\n",
              "       -0.05092175, -0.25139101, -0.62152317, -0.34601583, -0.6696723 ,\n",
              "       -0.33959057, -0.29600788, -0.71843827, -0.2823988 , -0.28154128,\n",
              "       -0.32848192, -0.12793516, -0.08083172, -0.75565293, -0.7520128 ,\n",
              "       -0.32991926, -0.6240343 , -0.68550497, -0.08837813, -0.29921806,\n",
              "       -0.82330574, -0.29842447, -0.9240851 , -0.46019005, -0.09574719,\n",
              "       -0.81561176, -0.06097234, -0.3337934 , -0.82977007, -0.20880377,\n",
              "       -0.8788886 , -0.08311259, -0.57252405, -0.37390436, -0.75773253,\n",
              "       -0.40711814, -0.16548304, -0.40795679, -0.41607599, -0.21875652,\n",
              "       -0.84631929, -0.22221756, -0.95873056, -0.26364514, -0.76474579,\n",
              "       -0.11719968, -0.69823857, -0.03178622, -0.15370741, -0.03613715])"
            ]
          },
          "metadata": {},
          "execution_count": 11
        }
      ]
    },
    {
      "cell_type": "markdown",
      "source": [
        "### Question 8: Using matplotlib, create 2 plots of the distribution created in the question above.  Use the old matplotlib matlab style interface to create the first plot.  Use the newer matplotlib object oriented style to create the second plot.  Add plot titles and axis labels (a data scientist should never create plots without titles and labels)."
      ],
      "metadata": {
        "id": "t-qs_YnkHNLa"
      }
    },
    {
      "cell_type": "code",
      "source": [
        "# old style matplotlib plot here\n",
        "\n",
        "import matplotlib.pyplot as plt\n",
        "plt.plot(s)\n",
        "plt.xlabel ('Probability Distribution')\n",
        "plt.ylabel ('Frequency')\n",
        "plt.title ('Probability Distribution Function')"
      ],
      "metadata": {
        "id": "47u7F2O8Hp--",
        "colab": {
          "base_uri": "https://localhost:8080/",
          "height": 312
        },
        "outputId": "f937c6d9-eda7-454e-8b25-397f3dd1e17b"
      },
      "execution_count": 12,
      "outputs": [
        {
          "output_type": "execute_result",
          "data": {
            "text/plain": [
              "Text(0.5, 1.0, 'Probability Distribution Function')"
            ]
          },
          "metadata": {},
          "execution_count": 12
        },
        {
          "output_type": "display_data",
          "data": {
            "image/png": "[encoded data removed]",
            "text/plain": [
              "<Figure size 432x288 with 1 Axes>"
            ]
          },
          "metadata": {
            "needs_background": "light"
          }
        }
      ]
    },
    {
      "cell_type": "code",
      "source": [
        "# new OO style plot here\n",
        "import matplotlib.pyplot as plt\n",
        "fig = plt.figure()\n",
        "ax = plt.axes()\n",
        "ax.plot(s)\n"
      ],
      "metadata": {
        "id": "wmhhmCKOHsQe",
        "colab": {
          "base_uri": "https://localhost:8080/",
          "height": 283
        },
        "outputId": "4a61b29e-d8ed-4a49-b4f0-481365ec91d3"
      },
      "execution_count": 13,
      "outputs": [
        {
          "output_type": "execute_result",
          "data": {
            "text/plain": [
              "[<matplotlib.lines.Line2D at 0x7fa0958e2b90>]"
            ]
          },
          "metadata": {},
          "execution_count": 13
        },
        {
          "output_type": "display_data",
          "data": {
            "image/png": "[encoded data removed]",
            "text/plain": [
              "<Figure size 432x288 with 1 Axes>"
            ]
          },
          "metadata": {
            "needs_background": "light"
          }
        }
      ]
    },
    {
      "cell_type": "markdown",
      "source": [
        "### Question 9:  Create a function named sample_dist which takes as args the probability distribution created above, and an integer indicating the number of observations to draw from the distribution to create a sample.  Use numpy to sample the distribution with replacement.  For example, if the sample integer is 40, the sample returned from sample_dist would contain 40 elements in the sample.  "
      ],
      "metadata": {
        "id": "ngnENPZ6Hx7C"
      }
    },
    {
      "cell_type": "code",
      "source": [
        "# Create sample_dist here\n",
        "def sample_dist(sample,num_obs):\n",
        "    a = np.random.choice(sample,num_obs)\n",
        "    return a\n",
        "sample_dist(s,40) "
      ],
      "metadata": {
        "id": "3zsYCxPAMR1m",
        "colab": {
          "base_uri": "https://localhost:8080/"
        },
        "outputId": "c0b85e0b-0887-4b03-c8e2-f1699dfe0771"
      },
      "execution_count": 14,
      "outputs": [
        {
          "output_type": "execute_result",
          "data": {
            "text/plain": [
              "array([-0.8933256 , -0.53056684, -0.8742919 , -0.06596443, -0.08083172,\n",
              "       -0.08837813, -0.11244523, -0.37390436, -0.33959057, -0.32991926,\n",
              "       -0.72077704, -0.04018204, -0.1620678 , -0.54572622, -0.9240851 ,\n",
              "       -0.12792189, -0.11719968, -0.8933256 , -0.68550497, -0.46019005,\n",
              "       -0.11245721, -0.0519714 , -0.62152317, -0.26364514, -0.09936753,\n",
              "       -0.2823988 , -0.6240343 , -0.13911768, -0.36105209, -0.0838052 ,\n",
              "       -0.53056684, -0.0838052 , -0.36105209, -0.6240343 , -0.03510615,\n",
              "       -0.28154128, -0.82330574, -0.76653388, -0.37390436, -0.6918728 ])"
            ]
          },
          "metadata": {},
          "execution_count": 14
        }
      ]
    },
    {
      "cell_type": "markdown",
      "source": [
        "### Question 10: Create a function named find_dups which takes a single argument numpy array and returns a numpy array containing duplicates in the input array.  For example, if the input array is [1, 2, 3, 4, 5, 1, 2], the returned array is [1, 2].  Use this function to verify that sampling with replacement in the question above returns an array that contains duplicate values."
      ],
      "metadata": {
        "id": "mVau0jniMVN3"
      }
    },
    {
      "cell_type": "code",
      "source": [
        "# Implement find_dups here\n",
        "a = [[1], [2], [3], [1], [5], [3]]\n",
        "print(a) \n",
        "\n",
        "dupes = [x for n, x in enumerate(a) if x in a[:n]]\n",
        "print (dupes) "
      ],
      "metadata": {
        "id": "4JwEWD1wM5Ve",
        "colab": {
          "base_uri": "https://localhost:8080/"
        },
        "outputId": "4322912b-ca87-48ed-86f9-7275c480dee8"
      },
      "execution_count": 15,
      "outputs": [
        {
          "output_type": "stream",
          "name": "stdout",
          "text": [
            "[[1], [2], [3], [1], [5], [3]]\n",
            "[[1], [3]]\n"
          ]
        }
      ]
    },
    {
      "cell_type": "markdown",
      "source": [
        "### Question 11: Read the supplied diabetes_tab.txt file into a Pandas dataframe and print the head and shape of the data frame."
      ],
      "metadata": {
        "id": "kbryQs9SM7uv"
      }
    },
    {
      "cell_type": "code",
      "source": [
        "# your diabetes_df code here:\n",
        "import pandas as pd\n",
        "df = pd.read_csv('/content/diabetes_tab.txt', sep= '\\t')\n",
        "df"
      ],
      "metadata": {
        "id": "X2B23EGOP_TK",
        "colab": {
          "base_uri": "https://localhost:8080/",
          "height": 419
        },
        "outputId": "64632fb3-143d-40f0-f1ed-cc380f4a5923"
      },
      "execution_count": 16,
      "outputs": [
        {
          "output_type": "execute_result",
          "data": {
            "text/html": [
              "\n",
              "  <div id=\"df-49b91d9d-97a8-4ed2-9a9b-6c7014c3912d\">\n",
              "    <div class=\"colab-df-container\">\n",
              "      <div>\n",
              "<style scoped>\n",
              "    .dataframe tbody tr th:only-of-type {\n",
              "        vertical-align: middle;\n",
              "    }\n",
              "\n",
              "    .dataframe tbody tr th {\n",
              "        vertical-align: top;\n",
              "    }\n",
              "\n",
              "    .dataframe thead th {\n",
              "        text-align: right;\n",
              "    }\n",
              "</style>\n",
              "<table border=\"1\" class=\"dataframe\">\n",
              "  <thead>\n",
              "    <tr style=\"text-align: right;\">\n",
              "      <th></th>\n",
              "      <th>AGE</th>\n",
              "      <th>SEX</th>\n",
              "      <th>BMI</th>\n",
              "      <th>BP</th>\n",
              "      <th>S1</th>\n",
              "      <th>S2</th>\n",
              "      <th>S3</th>\n",
              "      <th>S4</th>\n",
              "      <th>S5</th>\n",
              "      <th>S6</th>\n",
              "      <th>Y</th>\n",
              "    </tr>\n",
              "  </thead>\n",
              "  <tbody>\n",
              "    <tr>\n",
              "      <th>0</th>\n",
              "      <td>59</td>\n",
              "      <td>2</td>\n",
              "      <td>32.1</td>\n",
              "      <td>101.00</td>\n",
              "      <td>157</td>\n",
              "      <td>93.2</td>\n",
              "      <td>38.0</td>\n",
              "      <td>4.00</td>\n",
              "      <td>4.8598</td>\n",
              "      <td>87</td>\n",
              "      <td>151</td>\n",
              "    </tr>\n",
              "    <tr>\n",
              "      <th>1</th>\n",
              "      <td>48</td>\n",
              "      <td>1</td>\n",
              "      <td>21.6</td>\n",
              "      <td>87.00</td>\n",
              "      <td>183</td>\n",
              "      <td>103.2</td>\n",
              "      <td>70.0</td>\n",
              "      <td>3.00</td>\n",
              "      <td>3.8918</td>\n",
              "      <td>69</td>\n",
              "      <td>75</td>\n",
              "    </tr>\n",
              "    <tr>\n",
              "      <th>2</th>\n",
              "      <td>72</td>\n",
              "      <td>2</td>\n",
              "      <td>30.5</td>\n",
              "      <td>93.00</td>\n",
              "      <td>156</td>\n",
              "      <td>93.6</td>\n",
              "      <td>41.0</td>\n",
              "      <td>4.00</td>\n",
              "      <td>4.6728</td>\n",
              "      <td>85</td>\n",
              "      <td>141</td>\n",
              "    </tr>\n",
              "    <tr>\n",
              "      <th>3</th>\n",
              "      <td>24</td>\n",
              "      <td>1</td>\n",
              "      <td>25.3</td>\n",
              "      <td>84.00</td>\n",
              "      <td>198</td>\n",
              "      <td>131.4</td>\n",
              "      <td>40.0</td>\n",
              "      <td>5.00</td>\n",
              "      <td>4.8903</td>\n",
              "      <td>89</td>\n",
              "      <td>206</td>\n",
              "    </tr>\n",
              "    <tr>\n",
              "      <th>4</th>\n",
              "      <td>50</td>\n",
              "      <td>1</td>\n",
              "      <td>23.0</td>\n",
              "      <td>101.00</td>\n",
              "      <td>192</td>\n",
              "      <td>125.4</td>\n",
              "      <td>52.0</td>\n",
              "      <td>4.00</td>\n",
              "      <td>4.2905</td>\n",
              "      <td>80</td>\n",
              "      <td>135</td>\n",
              "    </tr>\n",
              "    <tr>\n",
              "      <th>...</th>\n",
              "      <td>...</td>\n",
              "      <td>...</td>\n",
              "      <td>...</td>\n",
              "      <td>...</td>\n",
              "      <td>...</td>\n",
              "      <td>...</td>\n",
              "      <td>...</td>\n",
              "      <td>...</td>\n",
              "      <td>...</td>\n",
              "      <td>...</td>\n",
              "      <td>...</td>\n",
              "    </tr>\n",
              "    <tr>\n",
              "      <th>437</th>\n",
              "      <td>60</td>\n",
              "      <td>2</td>\n",
              "      <td>28.2</td>\n",
              "      <td>112.00</td>\n",
              "      <td>185</td>\n",
              "      <td>113.8</td>\n",
              "      <td>42.0</td>\n",
              "      <td>4.00</td>\n",
              "      <td>4.9836</td>\n",
              "      <td>93</td>\n",
              "      <td>178</td>\n",
              "    </tr>\n",
              "    <tr>\n",
              "      <th>438</th>\n",
              "      <td>47</td>\n",
              "      <td>2</td>\n",
              "      <td>24.9</td>\n",
              "      <td>75.00</td>\n",
              "      <td>225</td>\n",
              "      <td>166.0</td>\n",
              "      <td>42.0</td>\n",
              "      <td>5.00</td>\n",
              "      <td>4.4427</td>\n",
              "      <td>102</td>\n",
              "      <td>104</td>\n",
              "    </tr>\n",
              "    <tr>\n",
              "      <th>439</th>\n",
              "      <td>60</td>\n",
              "      <td>2</td>\n",
              "      <td>24.9</td>\n",
              "      <td>99.67</td>\n",
              "      <td>162</td>\n",
              "      <td>106.6</td>\n",
              "      <td>43.0</td>\n",
              "      <td>3.77</td>\n",
              "      <td>4.1271</td>\n",
              "      <td>95</td>\n",
              "      <td>132</td>\n",
              "    </tr>\n",
              "    <tr>\n",
              "      <th>440</th>\n",
              "      <td>36</td>\n",
              "      <td>1</td>\n",
              "      <td>30.0</td>\n",
              "      <td>95.00</td>\n",
              "      <td>201</td>\n",
              "      <td>125.2</td>\n",
              "      <td>42.0</td>\n",
              "      <td>4.79</td>\n",
              "      <td>5.1299</td>\n",
              "      <td>85</td>\n",
              "      <td>220</td>\n",
              "    </tr>\n",
              "    <tr>\n",
              "      <th>441</th>\n",
              "      <td>36</td>\n",
              "      <td>1</td>\n",
              "      <td>19.6</td>\n",
              "      <td>71.00</td>\n",
              "      <td>250</td>\n",
              "      <td>133.2</td>\n",
              "      <td>97.0</td>\n",
              "      <td>3.00</td>\n",
              "      <td>4.5951</td>\n",
              "      <td>92</td>\n",
              "      <td>57</td>\n",
              "    </tr>\n",
              "  </tbody>\n",
              "</table>\n",
              "<p>442 rows × 11 columns</p>\n",
              "</div>\n",
              "      <button class=\"colab-df-convert\" onclick=\"convertToInteractive('df-49b91d9d-97a8-4ed2-9a9b-6c7014c3912d')\"\n",
              "              title=\"Convert this dataframe to an interactive table.\"\n",
              "              style=\"display:none;\">\n",
              "        \n",
              "  <svg xmlns=\"http://www.w3.org/2000/svg\" height=\"24px\"viewBox=\"0 0 24 24\"\n",
              "       width=\"24px\">\n",
              "    <path d=\"M0 0h24v24H0V0z\" fill=\"none\"/>\n",
              "    <path d=\"M18.56 5.44l.94 2.06.94-2.06 2.06-.94-2.06-.94-.94-2.06-.94 2.06-2.06.94zm-11 1L8.5 8.5l.94-2.06 2.06-.94-2.06-.94L8.5 2.5l-.94 2.06-2.06.94zm10 10l.94 2.06.94-2.06 2.06-.94-2.06-.94-.94-2.06-.94 2.06-2.06.94z\"/><path d=\"M17.41 7.96l-1.37-1.37c-.4-.4-.92-.59-1.43-.59-.52 0-1.04.2-1.43.59L10.3 9.45l-7.72 7.72c-.78.78-.78 2.05 0 2.83L4 21.41c.39.39.9.59 1.41.59.51 0 1.02-.2 1.41-.59l7.78-7.78 2.81-2.81c.8-.78.8-2.07 0-2.86zM5.41 20L4 18.59l7.72-7.72 1.47 1.35L5.41 20z\"/>\n",
              "  </svg>\n",
              "      </button>\n",
              "      \n",
              "  <style>\n",
              "    .colab-df-container {\n",
              "      display:flex;\n",
              "      flex-wrap:wrap;\n",
              "      gap: 12px;\n",
              "    }\n",
              "\n",
              "    .colab-df-convert {\n",
              "      background-color: #E8F0FE;\n",
              "      border: none;\n",
              "      border-radius: 50%;\n",
              "      cursor: pointer;\n",
              "      display: none;\n",
              "      fill: #1967D2;\n",
              "      height: 32px;\n",
              "      padding: 0 0 0 0;\n",
              "      width: 32px;\n",
              "    }\n",
              "\n",
              "    .colab-df-convert:hover {\n",
              "      background-color: #E2EBFA;\n",
              "      box-shadow: 0px 1px 2px rgba(60, 64, 67, 0.3), 0px 1px 3px 1px rgba(60, 64, 67, 0.15);\n",
              "      fill: #174EA6;\n",
              "    }\n",
              "\n",
              "    [theme=dark] .colab-df-convert {\n",
              "      background-color: #3B4455;\n",
              "      fill: #D2E3FC;\n",
              "    }\n",
              "\n",
              "    [theme=dark] .colab-df-convert:hover {\n",
              "      background-color: #434B5C;\n",
              "      box-shadow: 0px 1px 3px 1px rgba(0, 0, 0, 0.15);\n",
              "      filter: drop-shadow(0px 1px 2px rgba(0, 0, 0, 0.3));\n",
              "      fill: #FFFFFF;\n",
              "    }\n",
              "  </style>\n",
              "\n",
              "      <script>\n",
              "        const buttonEl =\n",
              "          document.querySelector('#df-49b91d9d-97a8-4ed2-9a9b-6c7014c3912d button.colab-df-convert');\n",
              "        buttonEl.style.display =\n",
              "          google.colab.kernel.accessAllowed ? 'block' : 'none';\n",
              "\n",
              "        async function convertToInteractive(key) {\n",
              "          const element = document.querySelector('#df-49b91d9d-97a8-4ed2-9a9b-6c7014c3912d');\n",
              "          const dataTable =\n",
              "            await google.colab.kernel.invokeFunction('convertToInteractive',\n",
              "                                                     [key], {});\n",
              "          if (!dataTable) return;\n",
              "\n",
              "          const docLinkHtml = 'Like what you see? Visit the ' +\n",
              "            '<a target=\"_blank\" href=https://colab.research.google.com/notebooks/data_table.ipynb>data table notebook</a>'\n",
              "            + ' to learn more about interactive tables.';\n",
              "          element.innerHTML = '';\n",
              "          dataTable['output_type'] = 'display_data';\n",
              "          await google.colab.output.renderOutput(dataTable, element);\n",
              "          const docLink = document.createElement('div');\n",
              "          docLink.innerHTML = docLinkHtml;\n",
              "          element.appendChild(docLink);\n",
              "        }\n",
              "      </script>\n",
              "    </div>\n",
              "  </div>\n",
              "  "
            ],
            "text/plain": [
              "     AGE  SEX   BMI      BP   S1     S2    S3    S4      S5   S6    Y\n",
              "0     59    2  32.1  101.00  157   93.2  38.0  4.00  4.8598   87  151\n",
              "1     48    1  21.6   87.00  183  103.2  70.0  3.00  3.8918   69   75\n",
              "2     72    2  30.5   93.00  156   93.6  41.0  4.00  4.6728   85  141\n",
              "3     24    1  25.3   84.00  198  131.4  40.0  5.00  4.8903   89  206\n",
              "4     50    1  23.0  101.00  192  125.4  52.0  4.00  4.2905   80  135\n",
              "..   ...  ...   ...     ...  ...    ...   ...   ...     ...  ...  ...\n",
              "437   60    2  28.2  112.00  185  113.8  42.0  4.00  4.9836   93  178\n",
              "438   47    2  24.9   75.00  225  166.0  42.0  5.00  4.4427  102  104\n",
              "439   60    2  24.9   99.67  162  106.6  43.0  3.77  4.1271   95  132\n",
              "440   36    1  30.0   95.00  201  125.2  42.0  4.79  5.1299   85  220\n",
              "441   36    1  19.6   71.00  250  133.2  97.0  3.00  4.5951   92   57\n",
              "\n",
              "[442 rows x 11 columns]"
            ]
          },
          "metadata": {},
          "execution_count": 16
        }
      ]
    },
    {
      "cell_type": "code",
      "source": [
        "df_head = df.head (20)\n",
        "print (df_head)"
      ],
      "metadata": {
        "colab": {
          "base_uri": "https://localhost:8080/"
        },
        "id": "qNNPR8my0emY",
        "outputId": "fefe004d-9036-4417-9bb2-82818fe8d9b6"
      },
      "execution_count": 17,
      "outputs": [
        {
          "output_type": "stream",
          "name": "stdout",
          "text": [
            "    AGE  SEX   BMI     BP   S1     S2    S3    S4      S5  S6    Y\n",
            "0    59    2  32.1  101.0  157   93.2  38.0  4.00  4.8598  87  151\n",
            "1    48    1  21.6   87.0  183  103.2  70.0  3.00  3.8918  69   75\n",
            "2    72    2  30.5   93.0  156   93.6  41.0  4.00  4.6728  85  141\n",
            "3    24    1  25.3   84.0  198  131.4  40.0  5.00  4.8903  89  206\n",
            "4    50    1  23.0  101.0  192  125.4  52.0  4.00  4.2905  80  135\n",
            "5    23    1  22.6   89.0  139   64.8  61.0  2.00  4.1897  68   97\n",
            "6    36    2  22.0   90.0  160   99.6  50.0  3.00  3.9512  82  138\n",
            "7    66    2  26.2  114.0  255  185.0  56.0  4.55  4.2485  92   63\n",
            "8    60    2  32.1   83.0  179  119.4  42.0  4.00  4.4773  94  110\n",
            "9    29    1  30.0   85.0  180   93.4  43.0  4.00  5.3845  88  310\n",
            "10   22    1  18.6   97.0  114   57.6  46.0  2.00  3.9512  83  101\n",
            "11   56    2  28.0   85.0  184  144.8  32.0  6.00  3.5835  77   69\n",
            "12   53    1  23.7   92.0  186  109.2  62.0  3.00  4.3041  81  179\n",
            "13   50    2  26.2   97.0  186  105.4  49.0  4.00  5.0626  88  185\n",
            "14   61    1  24.0   91.0  202  115.4  72.0  3.00  4.2905  73  118\n",
            "15   34    2  24.7  118.0  254  184.2  39.0  7.00  5.0370  81  171\n",
            "16   47    1  30.3  109.0  207  100.2  70.0  3.00  5.2149  98  166\n",
            "17   68    2  27.5  111.0  214  147.0  39.0  5.00  4.9416  91  144\n",
            "18   38    1  25.4   84.0  162  103.0  42.0  4.00  4.4427  87   97\n",
            "19   41    1  24.7   83.0  187  108.2  60.0  3.00  4.5433  78  168\n"
          ]
        }
      ]
    },
    {
      "cell_type": "code",
      "source": [
        "df_shape = df.shape\n",
        "print (df_shape)"
      ],
      "metadata": {
        "colab": {
          "base_uri": "https://localhost:8080/"
        },
        "id": "6vHsPEb20tkb",
        "outputId": "b68c333f-d3c9-45ea-95e5-57415391a111"
      },
      "execution_count": 18,
      "outputs": [
        {
          "output_type": "stream",
          "name": "stdout",
          "text": [
            "(442, 11)\n"
          ]
        }
      ]
    },
    {
      "cell_type": "markdown",
      "source": [
        "### Question 12: Create a new pandas dataframe named diabetes_under_50_df which contains all rows in diabetes_df where age is less than 50."
      ],
      "metadata": {
        "id": "oV0Fz871QDSr"
      }
    },
    {
      "cell_type": "code",
      "source": [
        "# Your diabetes_under_50_df code here\n",
        "df1= df[df['AGE']<50]\n",
        "df1"
      ],
      "metadata": {
        "id": "tUrs5c4iREyl",
        "colab": {
          "base_uri": "https://localhost:8080/",
          "height": 419
        },
        "outputId": "1e2e3792-6fdb-4173-dbb1-aa2764e3e8b1"
      },
      "execution_count": 19,
      "outputs": [
        {
          "output_type": "execute_result",
          "data": {
            "text/html": [
              "\n",
              "  <div id=\"df-ba724fac-1e3e-4891-abfb-0b874f5a2d8c\">\n",
              "    <div class=\"colab-df-container\">\n",
              "      <div>\n",
              "<style scoped>\n",
              "    .dataframe tbody tr th:only-of-type {\n",
              "        vertical-align: middle;\n",
              "    }\n",
              "\n",
              "    .dataframe tbody tr th {\n",
              "        vertical-align: top;\n",
              "    }\n",
              "\n",
              "    .dataframe thead th {\n",
              "        text-align: right;\n",
              "    }\n",
              "</style>\n",
              "<table border=\"1\" class=\"dataframe\">\n",
              "  <thead>\n",
              "    <tr style=\"text-align: right;\">\n",
              "      <th></th>\n",
              "      <th>AGE</th>\n",
              "      <th>SEX</th>\n",
              "      <th>BMI</th>\n",
              "      <th>BP</th>\n",
              "      <th>S1</th>\n",
              "      <th>S2</th>\n",
              "      <th>S3</th>\n",
              "      <th>S4</th>\n",
              "      <th>S5</th>\n",
              "      <th>S6</th>\n",
              "      <th>Y</th>\n",
              "    </tr>\n",
              "  </thead>\n",
              "  <tbody>\n",
              "    <tr>\n",
              "      <th>1</th>\n",
              "      <td>48</td>\n",
              "      <td>1</td>\n",
              "      <td>21.6</td>\n",
              "      <td>87.0</td>\n",
              "      <td>183</td>\n",
              "      <td>103.2</td>\n",
              "      <td>70.0</td>\n",
              "      <td>3.00</td>\n",
              "      <td>3.8918</td>\n",
              "      <td>69</td>\n",
              "      <td>75</td>\n",
              "    </tr>\n",
              "    <tr>\n",
              "      <th>3</th>\n",
              "      <td>24</td>\n",
              "      <td>1</td>\n",
              "      <td>25.3</td>\n",
              "      <td>84.0</td>\n",
              "      <td>198</td>\n",
              "      <td>131.4</td>\n",
              "      <td>40.0</td>\n",
              "      <td>5.00</td>\n",
              "      <td>4.8903</td>\n",
              "      <td>89</td>\n",
              "      <td>206</td>\n",
              "    </tr>\n",
              "    <tr>\n",
              "      <th>5</th>\n",
              "      <td>23</td>\n",
              "      <td>1</td>\n",
              "      <td>22.6</td>\n",
              "      <td>89.0</td>\n",
              "      <td>139</td>\n",
              "      <td>64.8</td>\n",
              "      <td>61.0</td>\n",
              "      <td>2.00</td>\n",
              "      <td>4.1897</td>\n",
              "      <td>68</td>\n",
              "      <td>97</td>\n",
              "    </tr>\n",
              "    <tr>\n",
              "      <th>6</th>\n",
              "      <td>36</td>\n",
              "      <td>2</td>\n",
              "      <td>22.0</td>\n",
              "      <td>90.0</td>\n",
              "      <td>160</td>\n",
              "      <td>99.6</td>\n",
              "      <td>50.0</td>\n",
              "      <td>3.00</td>\n",
              "      <td>3.9512</td>\n",
              "      <td>82</td>\n",
              "      <td>138</td>\n",
              "    </tr>\n",
              "    <tr>\n",
              "      <th>9</th>\n",
              "      <td>29</td>\n",
              "      <td>1</td>\n",
              "      <td>30.0</td>\n",
              "      <td>85.0</td>\n",
              "      <td>180</td>\n",
              "      <td>93.4</td>\n",
              "      <td>43.0</td>\n",
              "      <td>4.00</td>\n",
              "      <td>5.3845</td>\n",
              "      <td>88</td>\n",
              "      <td>310</td>\n",
              "    </tr>\n",
              "    <tr>\n",
              "      <th>...</th>\n",
              "      <td>...</td>\n",
              "      <td>...</td>\n",
              "      <td>...</td>\n",
              "      <td>...</td>\n",
              "      <td>...</td>\n",
              "      <td>...</td>\n",
              "      <td>...</td>\n",
              "      <td>...</td>\n",
              "      <td>...</td>\n",
              "      <td>...</td>\n",
              "      <td>...</td>\n",
              "    </tr>\n",
              "    <tr>\n",
              "      <th>435</th>\n",
              "      <td>45</td>\n",
              "      <td>1</td>\n",
              "      <td>24.2</td>\n",
              "      <td>83.0</td>\n",
              "      <td>177</td>\n",
              "      <td>118.4</td>\n",
              "      <td>45.0</td>\n",
              "      <td>4.00</td>\n",
              "      <td>4.2195</td>\n",
              "      <td>82</td>\n",
              "      <td>64</td>\n",
              "    </tr>\n",
              "    <tr>\n",
              "      <th>436</th>\n",
              "      <td>33</td>\n",
              "      <td>1</td>\n",
              "      <td>19.5</td>\n",
              "      <td>80.0</td>\n",
              "      <td>171</td>\n",
              "      <td>85.4</td>\n",
              "      <td>75.0</td>\n",
              "      <td>2.00</td>\n",
              "      <td>3.9703</td>\n",
              "      <td>80</td>\n",
              "      <td>48</td>\n",
              "    </tr>\n",
              "    <tr>\n",
              "      <th>438</th>\n",
              "      <td>47</td>\n",
              "      <td>2</td>\n",
              "      <td>24.9</td>\n",
              "      <td>75.0</td>\n",
              "      <td>225</td>\n",
              "      <td>166.0</td>\n",
              "      <td>42.0</td>\n",
              "      <td>5.00</td>\n",
              "      <td>4.4427</td>\n",
              "      <td>102</td>\n",
              "      <td>104</td>\n",
              "    </tr>\n",
              "    <tr>\n",
              "      <th>440</th>\n",
              "      <td>36</td>\n",
              "      <td>1</td>\n",
              "      <td>30.0</td>\n",
              "      <td>95.0</td>\n",
              "      <td>201</td>\n",
              "      <td>125.2</td>\n",
              "      <td>42.0</td>\n",
              "      <td>4.79</td>\n",
              "      <td>5.1299</td>\n",
              "      <td>85</td>\n",
              "      <td>220</td>\n",
              "    </tr>\n",
              "    <tr>\n",
              "      <th>441</th>\n",
              "      <td>36</td>\n",
              "      <td>1</td>\n",
              "      <td>19.6</td>\n",
              "      <td>71.0</td>\n",
              "      <td>250</td>\n",
              "      <td>133.2</td>\n",
              "      <td>97.0</td>\n",
              "      <td>3.00</td>\n",
              "      <td>4.5951</td>\n",
              "      <td>92</td>\n",
              "      <td>57</td>\n",
              "    </tr>\n",
              "  </tbody>\n",
              "</table>\n",
              "<p>214 rows × 11 columns</p>\n",
              "</div>\n",
              "      <button class=\"colab-df-convert\" onclick=\"convertToInteractive('df-ba724fac-1e3e-4891-abfb-0b874f5a2d8c')\"\n",
              "              title=\"Convert this dataframe to an interactive table.\"\n",
              "              style=\"display:none;\">\n",
              "        \n",
              "  <svg xmlns=\"http://www.w3.org/2000/svg\" height=\"24px\"viewBox=\"0 0 24 24\"\n",
              "       width=\"24px\">\n",
              "    <path d=\"M0 0h24v24H0V0z\" fill=\"none\"/>\n",
              "    <path d=\"M18.56 5.44l.94 2.06.94-2.06 2.06-.94-2.06-.94-.94-2.06-.94 2.06-2.06.94zm-11 1L8.5 8.5l.94-2.06 2.06-.94-2.06-.94L8.5 2.5l-.94 2.06-2.06.94zm10 10l.94 2.06.94-2.06 2.06-.94-2.06-.94-.94-2.06-.94 2.06-2.06.94z\"/><path d=\"M17.41 7.96l-1.37-1.37c-.4-.4-.92-.59-1.43-.59-.52 0-1.04.2-1.43.59L10.3 9.45l-7.72 7.72c-.78.78-.78 2.05 0 2.83L4 21.41c.39.39.9.59 1.41.59.51 0 1.02-.2 1.41-.59l7.78-7.78 2.81-2.81c.8-.78.8-2.07 0-2.86zM5.41 20L4 18.59l7.72-7.72 1.47 1.35L5.41 20z\"/>\n",
              "  </svg>\n",
              "      </button>\n",
              "      \n",
              "  <style>\n",
              "    .colab-df-container {\n",
              "      display:flex;\n",
              "      flex-wrap:wrap;\n",
              "      gap: 12px;\n",
              "    }\n",
              "\n",
              "    .colab-df-convert {\n",
              "      background-color: #E8F0FE;\n",
              "      border: none;\n",
              "      border-radius: 50%;\n",
              "      cursor: pointer;\n",
              "      display: none;\n",
              "      fill: #1967D2;\n",
              "      height: 32px;\n",
              "      padding: 0 0 0 0;\n",
              "      width: 32px;\n",
              "    }\n",
              "\n",
              "    .colab-df-convert:hover {\n",
              "      background-color: #E2EBFA;\n",
              "      box-shadow: 0px 1px 2px rgba(60, 64, 67, 0.3), 0px 1px 3px 1px rgba(60, 64, 67, 0.15);\n",
              "      fill: #174EA6;\n",
              "    }\n",
              "\n",
              "    [theme=dark] .colab-df-convert {\n",
              "      background-color: #3B4455;\n",
              "      fill: #D2E3FC;\n",
              "    }\n",
              "\n",
              "    [theme=dark] .colab-df-convert:hover {\n",
              "      background-color: #434B5C;\n",
              "      box-shadow: 0px 1px 3px 1px rgba(0, 0, 0, 0.15);\n",
              "      filter: drop-shadow(0px 1px 2px rgba(0, 0, 0, 0.3));\n",
              "      fill: #FFFFFF;\n",
              "    }\n",
              "  </style>\n",
              "\n",
              "      <script>\n",
              "        const buttonEl =\n",
              "          document.querySelector('#df-ba724fac-1e3e-4891-abfb-0b874f5a2d8c button.colab-df-convert');\n",
              "        buttonEl.style.display =\n",
              "          google.colab.kernel.accessAllowed ? 'block' : 'none';\n",
              "\n",
              "        async function convertToInteractive(key) {\n",
              "          const element = document.querySelector('#df-ba724fac-1e3e-4891-abfb-0b874f5a2d8c');\n",
              "          const dataTable =\n",
              "            await google.colab.kernel.invokeFunction('convertToInteractive',\n",
              "                                                     [key], {});\n",
              "          if (!dataTable) return;\n",
              "\n",
              "          const docLinkHtml = 'Like what you see? Visit the ' +\n",
              "            '<a target=\"_blank\" href=https://colab.research.google.com/notebooks/data_table.ipynb>data table notebook</a>'\n",
              "            + ' to learn more about interactive tables.';\n",
              "          element.innerHTML = '';\n",
              "          dataTable['output_type'] = 'display_data';\n",
              "          await google.colab.output.renderOutput(dataTable, element);\n",
              "          const docLink = document.createElement('div');\n",
              "          docLink.innerHTML = docLinkHtml;\n",
              "          element.appendChild(docLink);\n",
              "        }\n",
              "      </script>\n",
              "    </div>\n",
              "  </div>\n",
              "  "
            ],
            "text/plain": [
              "     AGE  SEX   BMI    BP   S1     S2    S3    S4      S5   S6    Y\n",
              "1     48    1  21.6  87.0  183  103.2  70.0  3.00  3.8918   69   75\n",
              "3     24    1  25.3  84.0  198  131.4  40.0  5.00  4.8903   89  206\n",
              "5     23    1  22.6  89.0  139   64.8  61.0  2.00  4.1897   68   97\n",
              "6     36    2  22.0  90.0  160   99.6  50.0  3.00  3.9512   82  138\n",
              "9     29    1  30.0  85.0  180   93.4  43.0  4.00  5.3845   88  310\n",
              "..   ...  ...   ...   ...  ...    ...   ...   ...     ...  ...  ...\n",
              "435   45    1  24.2  83.0  177  118.4  45.0  4.00  4.2195   82   64\n",
              "436   33    1  19.5  80.0  171   85.4  75.0  2.00  3.9703   80   48\n",
              "438   47    2  24.9  75.0  225  166.0  42.0  5.00  4.4427  102  104\n",
              "440   36    1  30.0  95.0  201  125.2  42.0  4.79  5.1299   85  220\n",
              "441   36    1  19.6  71.0  250  133.2  97.0  3.00  4.5951   92   57\n",
              "\n",
              "[214 rows x 11 columns]"
            ]
          },
          "metadata": {},
          "execution_count": 19
        }
      ]
    },
    {
      "cell_type": "markdown",
      "source": [
        "### Question 13: Group diabetes_df by sex and use the built in describe function to print statistics about the 2 groups."
      ],
      "metadata": {
        "id": "RhcsYpxPRIT2"
      }
    },
    {
      "cell_type": "code",
      "source": [
        "# group by sex statistics code here\n",
        "df.groupby(by=[\"SEX\"]).agg(['mean','count'])"
      ],
      "metadata": {
        "id": "iiYpnBKeRWEe",
        "colab": {
          "base_uri": "https://localhost:8080/",
          "height": 237
        },
        "outputId": "d58ca2d4-3f11-4d29-c53e-e4d2841865c3"
      },
      "execution_count": 20,
      "outputs": [
        {
          "output_type": "execute_result",
          "data": {
            "text/html": [
              "\n",
              "  <div id=\"df-a0693fed-9ac2-4b50-8c82-b3ae213774df\">\n",
              "    <div class=\"colab-df-container\">\n",
              "      <div>\n",
              "<style scoped>\n",
              "    .dataframe tbody tr th:only-of-type {\n",
              "        vertical-align: middle;\n",
              "    }\n",
              "\n",
              "    .dataframe tbody tr th {\n",
              "        vertical-align: top;\n",
              "    }\n",
              "\n",
              "    .dataframe thead tr th {\n",
              "        text-align: left;\n",
              "    }\n",
              "\n",
              "    .dataframe thead tr:last-of-type th {\n",
              "        text-align: right;\n",
              "    }\n",
              "</style>\n",
              "<table border=\"1\" class=\"dataframe\">\n",
              "  <thead>\n",
              "    <tr>\n",
              "      <th></th>\n",
              "      <th colspan=\"2\" halign=\"left\">AGE</th>\n",
              "      <th colspan=\"2\" halign=\"left\">BMI</th>\n",
              "      <th colspan=\"2\" halign=\"left\">BP</th>\n",
              "      <th colspan=\"2\" halign=\"left\">S1</th>\n",
              "      <th colspan=\"2\" halign=\"left\">S2</th>\n",
              "      <th colspan=\"2\" halign=\"left\">S3</th>\n",
              "      <th colspan=\"2\" halign=\"left\">S4</th>\n",
              "      <th colspan=\"2\" halign=\"left\">S5</th>\n",
              "      <th colspan=\"2\" halign=\"left\">S6</th>\n",
              "      <th colspan=\"2\" halign=\"left\">Y</th>\n",
              "    </tr>\n",
              "    <tr>\n",
              "      <th></th>\n",
              "      <th>mean</th>\n",
              "      <th>count</th>\n",
              "      <th>mean</th>\n",
              "      <th>count</th>\n",
              "      <th>mean</th>\n",
              "      <th>count</th>\n",
              "      <th>mean</th>\n",
              "      <th>count</th>\n",
              "      <th>mean</th>\n",
              "      <th>count</th>\n",
              "      <th>mean</th>\n",
              "      <th>count</th>\n",
              "      <th>mean</th>\n",
              "      <th>count</th>\n",
              "      <th>mean</th>\n",
              "      <th>count</th>\n",
              "      <th>mean</th>\n",
              "      <th>count</th>\n",
              "      <th>mean</th>\n",
              "      <th>count</th>\n",
              "    </tr>\n",
              "    <tr>\n",
              "      <th>SEX</th>\n",
              "      <th></th>\n",
              "      <th></th>\n",
              "      <th></th>\n",
              "      <th></th>\n",
              "      <th></th>\n",
              "      <th></th>\n",
              "      <th></th>\n",
              "      <th></th>\n",
              "      <th></th>\n",
              "      <th></th>\n",
              "      <th></th>\n",
              "      <th></th>\n",
              "      <th></th>\n",
              "      <th></th>\n",
              "      <th></th>\n",
              "      <th></th>\n",
              "      <th></th>\n",
              "      <th></th>\n",
              "      <th></th>\n",
              "      <th></th>\n",
              "    </tr>\n",
              "  </thead>\n",
              "  <tbody>\n",
              "    <tr>\n",
              "      <th>1</th>\n",
              "      <td>46.382979</td>\n",
              "      <td>235</td>\n",
              "      <td>26.010638</td>\n",
              "      <td>235</td>\n",
              "      <td>91.521957</td>\n",
              "      <td>235</td>\n",
              "      <td>187.995745</td>\n",
              "      <td>235</td>\n",
              "      <td>111.372340</td>\n",
              "      <td>235</td>\n",
              "      <td>54.385106</td>\n",
              "      <td>235</td>\n",
              "      <td>3.668468</td>\n",
              "      <td>235</td>\n",
              "      <td>4.567993</td>\n",
              "      <td>235</td>\n",
              "      <td>89.017021</td>\n",
              "      <td>235</td>\n",
              "      <td>149.021277</td>\n",
              "      <td>235</td>\n",
              "    </tr>\n",
              "    <tr>\n",
              "      <th>2</th>\n",
              "      <td>50.942029</td>\n",
              "      <td>207</td>\n",
              "      <td>26.790338</td>\n",
              "      <td>207</td>\n",
              "      <td>98.194783</td>\n",
              "      <td>207</td>\n",
              "      <td>190.439614</td>\n",
              "      <td>207</td>\n",
              "      <td>120.056039</td>\n",
              "      <td>207</td>\n",
              "      <td>44.570048</td>\n",
              "      <td>207</td>\n",
              "      <td>4.526377</td>\n",
              "      <td>207</td>\n",
              "      <td>4.724760</td>\n",
              "      <td>207</td>\n",
              "      <td>93.806763</td>\n",
              "      <td>207</td>\n",
              "      <td>155.666667</td>\n",
              "      <td>207</td>\n",
              "    </tr>\n",
              "  </tbody>\n",
              "</table>\n",
              "</div>\n",
              "      <button class=\"colab-df-convert\" onclick=\"convertToInteractive('df-a0693fed-9ac2-4b50-8c82-b3ae213774df')\"\n",
              "              title=\"Convert this dataframe to an interactive table.\"\n",
              "              style=\"display:none;\">\n",
              "        \n",
              "  <svg xmlns=\"http://www.w3.org/2000/svg\" height=\"24px\"viewBox=\"0 0 24 24\"\n",
              "       width=\"24px\">\n",
              "    <path d=\"M0 0h24v24H0V0z\" fill=\"none\"/>\n",
              "    <path d=\"M18.56 5.44l.94 2.06.94-2.06 2.06-.94-2.06-.94-.94-2.06-.94 2.06-2.06.94zm-11 1L8.5 8.5l.94-2.06 2.06-.94-2.06-.94L8.5 2.5l-.94 2.06-2.06.94zm10 10l.94 2.06.94-2.06 2.06-.94-2.06-.94-.94-2.06-.94 2.06-2.06.94z\"/><path d=\"M17.41 7.96l-1.37-1.37c-.4-.4-.92-.59-1.43-.59-.52 0-1.04.2-1.43.59L10.3 9.45l-7.72 7.72c-.78.78-.78 2.05 0 2.83L4 21.41c.39.39.9.59 1.41.59.51 0 1.02-.2 1.41-.59l7.78-7.78 2.81-2.81c.8-.78.8-2.07 0-2.86zM5.41 20L4 18.59l7.72-7.72 1.47 1.35L5.41 20z\"/>\n",
              "  </svg>\n",
              "      </button>\n",
              "      \n",
              "  <style>\n",
              "    .colab-df-container {\n",
              "      display:flex;\n",
              "      flex-wrap:wrap;\n",
              "      gap: 12px;\n",
              "    }\n",
              "\n",
              "    .colab-df-convert {\n",
              "      background-color: #E8F0FE;\n",
              "      border: none;\n",
              "      border-radius: 50%;\n",
              "      cursor: pointer;\n",
              "      display: none;\n",
              "      fill: #1967D2;\n",
              "      height: 32px;\n",
              "      padding: 0 0 0 0;\n",
              "      width: 32px;\n",
              "    }\n",
              "\n",
              "    .colab-df-convert:hover {\n",
              "      background-color: #E2EBFA;\n",
              "      box-shadow: 0px 1px 2px rgba(60, 64, 67, 0.3), 0px 1px 3px 1px rgba(60, 64, 67, 0.15);\n",
              "      fill: #174EA6;\n",
              "    }\n",
              "\n",
              "    [theme=dark] .colab-df-convert {\n",
              "      background-color: #3B4455;\n",
              "      fill: #D2E3FC;\n",
              "    }\n",
              "\n",
              "    [theme=dark] .colab-df-convert:hover {\n",
              "      background-color: #434B5C;\n",
              "      box-shadow: 0px 1px 3px 1px rgba(0, 0, 0, 0.15);\n",
              "      filter: drop-shadow(0px 1px 2px rgba(0, 0, 0, 0.3));\n",
              "      fill: #FFFFFF;\n",
              "    }\n",
              "  </style>\n",
              "\n",
              "      <script>\n",
              "        const buttonEl =\n",
              "          document.querySelector('#df-a0693fed-9ac2-4b50-8c82-b3ae213774df button.colab-df-convert');\n",
              "        buttonEl.style.display =\n",
              "          google.colab.kernel.accessAllowed ? 'block' : 'none';\n",
              "\n",
              "        async function convertToInteractive(key) {\n",
              "          const element = document.querySelector('#df-a0693fed-9ac2-4b50-8c82-b3ae213774df');\n",
              "          const dataTable =\n",
              "            await google.colab.kernel.invokeFunction('convertToInteractive',\n",
              "                                                     [key], {});\n",
              "          if (!dataTable) return;\n",
              "\n",
              "          const docLinkHtml = 'Like what you see? Visit the ' +\n",
              "            '<a target=\"_blank\" href=https://colab.research.google.com/notebooks/data_table.ipynb>data table notebook</a>'\n",
              "            + ' to learn more about interactive tables.';\n",
              "          element.innerHTML = '';\n",
              "          dataTable['output_type'] = 'display_data';\n",
              "          await google.colab.output.renderOutput(dataTable, element);\n",
              "          const docLink = document.createElement('div');\n",
              "          docLink.innerHTML = docLinkHtml;\n",
              "          element.appendChild(docLink);\n",
              "        }\n",
              "      </script>\n",
              "    </div>\n",
              "  </div>\n",
              "  "
            ],
            "text/plain": [
              "           AGE              BMI        ...         S6                 Y      \n",
              "          mean count       mean count  ...       mean count        mean count\n",
              "SEX                                    ...                                   \n",
              "1    46.382979   235  26.010638   235  ...  89.017021   235  149.021277   235\n",
              "2    50.942029   207  26.790338   207  ...  93.806763   207  155.666667   207\n",
              "\n",
              "[2 rows x 20 columns]"
            ]
          },
          "metadata": {},
          "execution_count": 20
        }
      ]
    },
    {
      "cell_type": "markdown",
      "source": [
        "### Question 14: Use either Matplotlib or built in Pandas plotting functionality to plot BMI vs BP (body mass index vs. blood pressure).  Does there appear to be a correlation between these 2 variables?"
      ],
      "metadata": {
        "id": "lp4ZWWLnRZjR"
      }
    },
    {
      "cell_type": "code",
      "source": [
        "# BMI vs. BP code here\n",
        "import matplotlib.pyplot as plt\n",
        "plt.scatter(x=df['BMI'], y=df['BP'])\n",
        "plt.show"
      ],
      "metadata": {
        "id": "3tRu05dkSKqA",
        "colab": {
          "base_uri": "https://localhost:8080/",
          "height": 282
        },
        "outputId": "d3f1aa0b-4999-4ab2-9cb9-f09bb2e1a53d"
      },
      "execution_count": 21,
      "outputs": [
        {
          "output_type": "execute_result",
          "data": {
            "text/plain": [
              "<function matplotlib.pyplot.show>"
            ]
          },
          "metadata": {},
          "execution_count": 21
        },
        {
          "output_type": "display_data",
          "data": {
            "image/png": "[encoded data removed]",
            "text/plain": [
              "<Figure size 432x288 with 1 Axes>"
            ]
          },
          "metadata": {
            "needs_background": "light"
          }
        }
      ]
    },
    {
      "cell_type": "markdown",
      "source": [
        "### Question 15: Write a function called spin_roulette_wheel which returns the outcome of a single sping of a roulette wheel.  The return value shall be an enumerated type containing one of the following enumerations: R, G, B.  Assume the roulette wheel contains 19 red squares, 19 black squares, and 2 green squares."
      ],
      "metadata": {
        "id": "ia8lGpuoSNrR"
      }
    },
    {
      "cell_type": "code",
      "source": [
        "# spin_roulette_wheel code here:\n",
        "def spin_roulette_wheel(x):\n",
        "   x= [1,1,1,1,1,1,1,1,1,1,1,1,1,1,1,1,1,1,1,1,2,2,2,2,2,2,2,2,2,2,2,2,2,2,2,2,2,2,2,2,3,3] \n",
        "   import random\n",
        "   y= random.choice(x)\n",
        "   print(y)\n",
        "   if y==1:\n",
        "    print(\"red\")\n",
        "   elif y == 2:\n",
        "    print(\"black\")\n",
        "   else:\n",
        "    print(\"green\") \n",
        "print(spin_roulette_wheel(x))   "
      ],
      "metadata": {
        "id": "tUr_W5nKUXDg",
        "colab": {
          "base_uri": "https://localhost:8080/"
        },
        "outputId": "ffd650e5-89e4-452f-f9a7-f872e9ab52cd"
      },
      "execution_count": 22,
      "outputs": [
        {
          "output_type": "stream",
          "name": "stdout",
          "text": [
            "2\n",
            "black\n",
            "None\n"
          ]
        }
      ]
    }
  ]
}